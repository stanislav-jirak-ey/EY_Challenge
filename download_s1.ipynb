{
 "cells": [
  {
   "cell_type": "code",
   "execution_count": 1,
   "metadata": {},
   "outputs": [
    {
     "name": "stdout",
     "output_type": "stream",
     "text": [
      "Requirement already satisfied: utm in /srv/conda/envs/notebook/lib/python3.10/site-packages (0.7.0)\n"
     ]
    }
   ],
   "source": [
    "!pip install utm"
   ]
  },
  {
   "cell_type": "code",
   "execution_count": 68,
   "metadata": {},
   "outputs": [],
   "source": [
    "# Supress Warnings\n",
    "import warnings\n",
    "warnings.filterwarnings('ignore')\n",
    "\n",
    "# Visualization\n",
    "import ipyleaflet\n",
    "import matplotlib.pyplot as plt\n",
    "from IPython.display import Image\n",
    "import seaborn as sns\n",
    "\n",
    "\n",
    "# Data Science\n",
    "import numpy as np\n",
    "import pandas as pd\n",
    "\n",
    "# Feature Engineering\n",
    "from sklearn.preprocessing import StandardScaler\n",
    "from sklearn.model_selection import train_test_split\n",
    "\n",
    "# Machine Learning\n",
    "from sklearn.linear_model import LogisticRegression\n",
    "from sklearn.metrics import f1_score, accuracy_score,classification_report,confusion_matrix\n",
    "\n",
    "# Planetary Computer Tools\n",
    "import pystac\n",
    "import pystac_client\n",
    "import odc\n",
    "from pystac_client import Client\n",
    "from pystac.extensions.eo import EOExtension as eo\n",
    "from odc.stac import stac_load\n",
    "import planetary_computer as pc\n",
    "pc.settings.set_subscription_key('You primary key')\n",
    "\n",
    "# Others\n",
    "import requests\n",
    "import rich.table\n",
    "import utils\n",
    "from itertools import cycle\n",
    "from tqdm import tqdm\n",
    "import xarray as xr\n",
    "tqdm.pandas()"
   ]
  },
  {
   "cell_type": "code",
   "execution_count": 69,
   "metadata": {},
   "outputs": [
    {
     "data": {
      "text/html": [
       "<div>\n",
       "<style scoped>\n",
       "    .dataframe tbody tr th:only-of-type {\n",
       "        vertical-align: middle;\n",
       "    }\n",
       "\n",
       "    .dataframe tbody tr th {\n",
       "        vertical-align: top;\n",
       "    }\n",
       "\n",
       "    .dataframe thead th {\n",
       "        text-align: right;\n",
       "    }\n",
       "</style>\n",
       "<table border=\"1\" class=\"dataframe\">\n",
       "  <thead>\n",
       "    <tr style=\"text-align: right;\">\n",
       "      <th></th>\n",
       "      <th>Latitude and Longitude</th>\n",
       "      <th>Class of Land</th>\n",
       "    </tr>\n",
       "  </thead>\n",
       "  <tbody>\n",
       "    <tr>\n",
       "      <th>0</th>\n",
       "      <td>(10.323727047081501, 105.2516346045924)</td>\n",
       "      <td>Rice</td>\n",
       "    </tr>\n",
       "    <tr>\n",
       "      <th>1</th>\n",
       "      <td>(10.322364360592521, 105.27843410554115)</td>\n",
       "      <td>Rice</td>\n",
       "    </tr>\n",
       "    <tr>\n",
       "      <th>2</th>\n",
       "      <td>(10.321455902933202, 105.25254306225168)</td>\n",
       "      <td>Rice</td>\n",
       "    </tr>\n",
       "    <tr>\n",
       "      <th>3</th>\n",
       "      <td>(10.324181275911162, 105.25118037576274)</td>\n",
       "      <td>Rice</td>\n",
       "    </tr>\n",
       "    <tr>\n",
       "      <th>4</th>\n",
       "      <td>(10.324635504740822, 105.27389181724476)</td>\n",
       "      <td>Rice</td>\n",
       "    </tr>\n",
       "    <tr>\n",
       "      <th>...</th>\n",
       "      <td>...</td>\n",
       "      <td>...</td>\n",
       "    </tr>\n",
       "    <tr>\n",
       "      <th>595</th>\n",
       "      <td>(10.013942985253381, 105.67361318732796)</td>\n",
       "      <td>Non Rice</td>\n",
       "    </tr>\n",
       "    <tr>\n",
       "      <th>596</th>\n",
       "      <td>(10.01348875642372, 105.67361318732796)</td>\n",
       "      <td>Non Rice</td>\n",
       "    </tr>\n",
       "    <tr>\n",
       "      <th>597</th>\n",
       "      <td>(10.013034527594062, 105.67361318732796)</td>\n",
       "      <td>Non Rice</td>\n",
       "    </tr>\n",
       "    <tr>\n",
       "      <th>598</th>\n",
       "      <td>(10.012580298764401, 105.67361318732796)</td>\n",
       "      <td>Non Rice</td>\n",
       "    </tr>\n",
       "    <tr>\n",
       "      <th>599</th>\n",
       "      <td>(10.012126069934741, 105.67361318732796)</td>\n",
       "      <td>Non Rice</td>\n",
       "    </tr>\n",
       "  </tbody>\n",
       "</table>\n",
       "<p>600 rows × 2 columns</p>\n",
       "</div>"
      ],
      "text/plain": [
       "                       Latitude and Longitude Class of Land\n",
       "0     (10.323727047081501, 105.2516346045924)          Rice\n",
       "1    (10.322364360592521, 105.27843410554115)          Rice\n",
       "2    (10.321455902933202, 105.25254306225168)          Rice\n",
       "3    (10.324181275911162, 105.25118037576274)          Rice\n",
       "4    (10.324635504740822, 105.27389181724476)          Rice\n",
       "..                                        ...           ...\n",
       "595  (10.013942985253381, 105.67361318732796)      Non Rice\n",
       "596   (10.01348875642372, 105.67361318732796)      Non Rice\n",
       "597  (10.013034527594062, 105.67361318732796)      Non Rice\n",
       "598  (10.012580298764401, 105.67361318732796)      Non Rice\n",
       "599  (10.012126069934741, 105.67361318732796)      Non Rice\n",
       "\n",
       "[600 rows x 2 columns]"
      ]
     },
     "execution_count": 69,
     "metadata": {},
     "output_type": "execute_result"
    }
   ],
   "source": [
    "#Read Data\n",
    "crop_presence_data = pd.read_csv(\"Crop_Location_Data.csv\")\n",
    "crop_presence_data"
   ]
  },
  {
   "cell_type": "code",
   "execution_count": 70,
   "metadata": {},
   "outputs": [],
   "source": [
    "import numpy as np\n",
    "\n",
    "def get_sentinel1_data(latlong, time_slice, assets, distance=0.01):\n",
    "    '''\n",
    "    Returns VV and VH values for a given latitude and longitude \n",
    "    Attributes:\n",
    "    latlong - A tuple with 2 elements - latitude and longitude\n",
    "    time_slice - Timeframe for which the VV and VH values have to be extracted\n",
    "    assets - A list of bands to be extracted\n",
    "    distance - The distance to expand the bounding box around the given coordinates (default 0.01 degrees)\n",
    "    '''\n",
    "\n",
    "    latlong=latlong.replace('(','').replace(')','').replace(' ','').split(',')\n",
    "    lat, lon = float(latlong[0]), float(latlong[1])\n",
    "    \n",
    "    bbox_of_interest = (lon - distance, lat - distance, lon + distance, lat + distance)\n",
    "    time_of_interest = time_slice\n",
    "\n",
    "    catalog = pystac_client.Client.open(\n",
    "        \"https://planetarycomputer.microsoft.com/api/stac/v1\"\n",
    "    )\n",
    "    search = catalog.search(\n",
    "        collections=[\"sentinel-1-rtc\"], bbox=bbox_of_interest, datetime=time_of_interest\n",
    "    )\n",
    "    items = list(search.get_all_items())\n",
    "    bands_of_interest = assets\n",
    "    \n",
    "    data = stac_load([items[0]], patch_url=pc.sign, bbox=bbox_of_interest).isel(time=0)\n",
    "    \n",
    "    vh = data[\"vh\"].astype(\"float\").values\n",
    "    vv = data[\"vv\"].astype(\"float\").values\n",
    "    \n",
    "    # Calculate the mean of the VV and VH values\n",
    "    vh_mean = np.mean(vh)\n",
    "    vv_mean = np.mean(vv)\n",
    "    \n",
    "    return vh_mean, vv_mean\n"
   ]
  },
  {
   "cell_type": "code",
   "execution_count": 72,
   "metadata": {},
   "outputs": [
    {
     "name": "stderr",
     "output_type": "stream",
     "text": [
      "100%|██████████| 600/600 [02:22<00:00,  4.21it/s]\n",
      "100%|██████████| 600/600 [02:51<00:00,  3.50it/s] \n",
      "100%|██████████| 600/600 [02:22<00:00,  4.22it/s]\n",
      "100%|██████████| 600/600 [02:34<00:00,  3.87it/s]\n",
      "100%|██████████| 600/600 [02:33<00:00,  3.91it/s]\n",
      "100%|██████████| 600/600 [02:45<00:00,  3.62it/s]\n",
      "100%|██████████| 600/600 [02:29<00:00,  4.01it/s]\n",
      "100%|██████████| 600/600 [02:39<00:00,  3.77it/s]\n",
      "100%|██████████| 600/600 [02:36<00:00,  3.84it/s]\n",
      "100%|██████████| 600/600 [11:45<00:00,  1.18s/it]  \n",
      "100%|██████████| 600/600 [04:26<00:00,  2.25it/s]\n",
      "100%|██████████| 600/600 [03:05<00:00,  3.23it/s]  \n"
     ]
    }
   ],
   "source": [
    "import pandas as pd\n",
    "from datetime import datetime, timedelta\n",
    "\n",
    "\n",
    "def generate_monthly_time_slices(start_date, end_date):\n",
    "    start_date = datetime.strptime(start_date, \"%Y-%m-%d\")\n",
    "    end_date = datetime.strptime(end_date, \"%Y-%m-%d\")\n",
    "    time_slices = []\n",
    "\n",
    "    while start_date < end_date:\n",
    "        next_month_start = start_date + timedelta(days=(32 - start_date.day))\n",
    "        next_month_start = next_month_start.replace(day=1)\n",
    "\n",
    "        if next_month_start > end_date:\n",
    "            next_month_start = end_date\n",
    "\n",
    "        time_slice = f\"{start_date.date()}/{next_month_start.date()}\"\n",
    "        time_slices.append(time_slice)\n",
    "        start_date = next_month_start\n",
    "\n",
    "    return time_slices\n",
    "\n",
    "# Function call to generate monthly time slices for the specified date range\n",
    "time_slices = generate_monthly_time_slices(\"2022-01-01\", \"2023-01-01\")\n",
    "assets = ['vh', 'vv']\n",
    "\n",
    "vh_vv = []\n",
    "\n",
    "for time_slice in time_slices:\n",
    "    vh_vv_month = []\n",
    "    \n",
    "    for coordinates in tqdm(crop_presence_data['Latitude and Longitude']):\n",
    "        vh_vv_month.append(get_sentinel1_data(coordinates, time_slice, assets))\n",
    "\n",
    "    vh_vv.append(vh_vv_month)\n",
    "\n",
    "# Flatten the list of lists and convert it to a DataFrame\n",
    "vh_vv_flat = [item for sublist in vh_vv for item in sublist]\n",
    "vh_vv_data = pd.DataFrame(vh_vv_flat, columns=['vh', 'vv'])\n"
   ]
  },
  {
   "cell_type": "code",
   "execution_count": 85,
   "metadata": {},
   "outputs": [
    {
     "data": {
      "text/plain": [
       "(7200, 3)"
      ]
     },
     "execution_count": 85,
     "metadata": {},
     "output_type": "execute_result"
    }
   ],
   "source": [
    "vh_vv_data.shape"
   ]
  },
  {
   "cell_type": "code",
   "execution_count": 75,
   "metadata": {},
   "outputs": [],
   "source": [
    "# Calculate RVI\n",
    "dop = (vh_vv_data.vv / (vh_vv_data.vv + vh_vv_data.vh))\n",
    "m = 1 - dop\n",
    "vh_vv_data['rvi'] = (np.sqrt(dop))*((4*vh_vv_data.vh)/(vh_vv_data.vv + vh_vv_data.vh))"
   ]
  },
  {
   "cell_type": "code",
   "execution_count": 77,
   "metadata": {},
   "outputs": [],
   "source": [
    "field_ids = np.repeat(np.arange(0, 600), 12)\n",
    "vh_vv_data['field'] = field_ids"
   ]
  },
  {
   "cell_type": "code",
   "execution_count": 79,
   "metadata": {},
   "outputs": [],
   "source": [
    "month_numbers = np.tile(np.arange(1, 13), 600)\n",
    "vh_vv_data['month'] = month_numbers"
   ]
  },
  {
   "cell_type": "code",
   "execution_count": 82,
   "metadata": {},
   "outputs": [],
   "source": [
    "vh_vv_data = vh_vv_data.set_index(['field', 'month'], inplace=True)"
   ]
  },
  {
   "cell_type": "code",
   "execution_count": 86,
   "metadata": {},
   "outputs": [
    {
     "data": {
      "text/html": [
       "<div>\n",
       "<style scoped>\n",
       "    .dataframe tbody tr th:only-of-type {\n",
       "        vertical-align: middle;\n",
       "    }\n",
       "\n",
       "    .dataframe tbody tr th {\n",
       "        vertical-align: top;\n",
       "    }\n",
       "\n",
       "    .dataframe thead th {\n",
       "        text-align: right;\n",
       "    }\n",
       "</style>\n",
       "<table border=\"1\" class=\"dataframe\">\n",
       "  <thead>\n",
       "    <tr style=\"text-align: right;\">\n",
       "      <th></th>\n",
       "      <th></th>\n",
       "      <th>vh</th>\n",
       "      <th>vv</th>\n",
       "      <th>rvi</th>\n",
       "    </tr>\n",
       "    <tr>\n",
       "      <th>field</th>\n",
       "      <th>month</th>\n",
       "      <th></th>\n",
       "      <th></th>\n",
       "      <th></th>\n",
       "    </tr>\n",
       "  </thead>\n",
       "  <tbody>\n",
       "    <tr>\n",
       "      <th rowspan=\"5\" valign=\"top\">0</th>\n",
       "      <th>1</th>\n",
       "      <td>0.032352</td>\n",
       "      <td>0.182373</td>\n",
       "      <td>0.555414</td>\n",
       "    </tr>\n",
       "    <tr>\n",
       "      <th>2</th>\n",
       "      <td>0.040305</td>\n",
       "      <td>0.224249</td>\n",
       "      <td>0.561068</td>\n",
       "    </tr>\n",
       "    <tr>\n",
       "      <th>3</th>\n",
       "      <td>0.032408</td>\n",
       "      <td>0.182790</td>\n",
       "      <td>0.555172</td>\n",
       "    </tr>\n",
       "    <tr>\n",
       "      <th>4</th>\n",
       "      <td>0.032328</td>\n",
       "      <td>0.182611</td>\n",
       "      <td>0.554534</td>\n",
       "    </tr>\n",
       "    <tr>\n",
       "      <th>5</th>\n",
       "      <td>0.032389</td>\n",
       "      <td>0.191094</td>\n",
       "      <td>0.536061</td>\n",
       "    </tr>\n",
       "  </tbody>\n",
       "</table>\n",
       "</div>"
      ],
      "text/plain": [
       "                   vh        vv       rvi\n",
       "field month                              \n",
       "0     1      0.032352  0.182373  0.555414\n",
       "      2      0.040305  0.224249  0.561068\n",
       "      3      0.032408  0.182790  0.555172\n",
       "      4      0.032328  0.182611  0.554534\n",
       "      5      0.032389  0.191094  0.536061"
      ]
     },
     "execution_count": 86,
     "metadata": {},
     "output_type": "execute_result"
    }
   ],
   "source": [
    "vh_vv_data.head()"
   ]
  },
  {
   "cell_type": "code",
   "execution_count": null,
   "metadata": {},
   "outputs": [],
   "source": [
    "import seaborn as sns\n",
    "\n",
    "# Setting the dimensions of the plot\n",
    "fig, ax = plt.subplots(figsize=(20, 10))\n",
    "\n",
    "# Create the line plot\n",
    "sns.lineplot(data=vh_vv_data, x=\"month\", y=\"rvi\", hue=\"field\").set(title='RVI values - Training dataset')\n",
    "\n",
    "# Save the plot to a file\n",
    "fig.savefig(\"grvi_sa.png\")\n",
    "\n",
    "# Show the plot\n",
    "plt.show()"
   ]
  },
  {
   "cell_type": "code",
   "execution_count": 87,
   "metadata": {},
   "outputs": [],
   "source": [
    "import pandas as pd\n",
    "\n",
    "vh_vv_data.to_csv('s1_data.csv', index=True)"
   ]
  },
  {
   "cell_type": "code",
   "execution_count": null,
   "metadata": {},
   "outputs": [],
   "source": []
  }
 ],
 "metadata": {
  "kernelspec": {
   "display_name": "Python 3 (ipykernel)",
   "language": "python",
   "name": "python3"
  },
  "language_info": {
   "codemirror_mode": {
    "name": "ipython",
    "version": 3
   },
   "file_extension": ".py",
   "mimetype": "text/x-python",
   "name": "python",
   "nbconvert_exporter": "python",
   "pygments_lexer": "ipython3",
   "version": "3.10.6"
  }
 },
 "nbformat": 4,
 "nbformat_minor": 4
}
